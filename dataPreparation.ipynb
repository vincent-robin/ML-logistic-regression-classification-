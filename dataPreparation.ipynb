{
 "cells": [
  {
   "cell_type": "code",
   "execution_count": 1,
   "id": "2e647fb1-ff98-4db8-980f-7096b934df68",
   "metadata": {},
   "outputs": [
    {
     "data": {
      "text/plain": [
       "Index(['age', 'bp', 'al', 'su', 'bgr', 'bu', 'sc', 'sod', 'pot', 'hrmo', 'pcv',\n",
       "       'wc', 'rc', 'sg_b', 'sg_c', 'sg_d', 'sg_e', 'rbc_normal', 'pc_normal',\n",
       "       'pcc_present', 'ba_present', 'htn_yes', 'dm_yes', 'cad_yes',\n",
       "       'appet_yes', 'pe_yes', 'ane_yes', 'classification_yes'],\n",
       "      dtype='object')"
      ]
     },
     "execution_count": 1,
     "metadata": {},
     "output_type": "execute_result"
    }
   ],
   "source": [
    "import pandas as pd\n",
    "\n",
    "mFile = pd.read_csv('CKD.csv')\n",
    "\n",
    "mFile =pd.get_dummies(mFile,drop_first =True)\n",
    "\n",
    "mFile.columns"
   ]
  },
  {
   "cell_type": "code",
   "execution_count": 2,
   "id": "6fa0977b-cc14-4b8a-a27b-e39a6f4cda4b",
   "metadata": {},
   "outputs": [],
   "source": [
    "inde= mFile[['age', 'bp', 'al', 'su', 'bgr', 'bu', 'sc', 'sod', 'pot', 'hrmo', 'pcv',\n",
    "       'wc', 'rc', 'sg_b', 'sg_c', 'sg_d', 'sg_e', 'rbc_normal', 'pc_normal',\n",
    "       'pcc_present', 'ba_present', 'htn_yes', 'dm_yes', 'cad_yes',\n",
    "       'appet_yes', 'pe_yes', 'ane_yes']]\n",
    "\n",
    "depe =mFile[['classification_yes']]"
   ]
  },
  {
   "cell_type": "code",
   "execution_count": 3,
   "id": "b67349b0-655e-4fb6-be39-82d2aaf9c9a7",
   "metadata": {},
   "outputs": [],
   "source": [
    "from sklearn.model_selection import train_test_split\n",
    "xTrain,xTest,yTrain,yTest = train_test_split(inde,depe,test_size =0.33,random_state=0)\n",
    "\n",
    "\n",
    "# list(xTest.columns)\n",
    "# xTrain\n",
    "xTrain_encoded = xTrain.apply(lambda col: pd.factorize(col)[0])\n",
    "xTest_encoded = xTest.apply(lambda col: pd.factorize(col)[0])\n",
    "yTrain_encoded = yTrain.apply(lambda col: pd.factorize(col)[0])\n",
    "yTest_encoded = yTest.apply(lambda col: pd.factorize(col)[0])\n",
    "# xTest_encoded"
   ]
  },
  {
   "cell_type": "code",
   "execution_count": 4,
   "id": "486716bd-6fda-4b40-ba2a-0af9b28c7b98",
   "metadata": {},
   "outputs": [],
   "source": [
    "\n",
    "# from sklearn.naive_bayes import CategoricalNB\n",
    "# from sklearn.metrics import classification_report\n",
    "# from sklearn.metrics import confusion_matrix\n",
    "\n",
    "# classifier =CategoricalNB()\n",
    "# classifier.fit(xTrain_encoded, yTrain_encoded)\n",
    "# y_pred = classifier.predict(xTest_encoded)\n",
    "# checkConfustionMatrix(yTest,y_pred)\n",
    "# cm = confusion_matrix(yTest_encoded,y_pred)\n",
    "# print(cm)\n",
    "# print(classification_report(yTest_encoded, y_pred))"
   ]
  },
  {
   "cell_type": "code",
   "execution_count": 5,
   "id": "0726bc55-9976-407d-b917-4d3e0d97e6b7",
   "metadata": {},
   "outputs": [],
   "source": [
    "from sklearn.preprocessing import StandardScaler\n",
    "sc = StandardScaler()\n",
    "xTrain = sc.fit_transform(xTrain)\n",
    "xTest= sc.transform(xTest)\n",
    "\n",
    "sc1 = StandardScaler()\n",
    "y_Train = sc1.fit_transform(yTrain)\n",
    "y_Test = sc1.transform(yTest)\n",
    "yTrain_array = yTrain.to_numpy().ravel()\n"
   ]
  },
  {
   "cell_type": "code",
   "execution_count": 6,
   "id": "a40d2843-0806-4be2-bbf5-b4a9c2b09210",
   "metadata": {},
   "outputs": [],
   "source": [
    "from checkClassifierScoreFile import checkClassifierScore\n",
    "cf = checkClassifierScore()"
   ]
  },
  {
   "cell_type": "code",
   "execution_count": 7,
   "id": "3cc191d4-627b-46e0-917c-bfe9fed4f445",
   "metadata": {},
   "outputs": [
    {
     "name": "stdout",
     "output_type": "stream",
     "text": [
      "Fitting 5 folds for each of 6 candidates, totalling 30 fits\n",
      "{'penalty': 'l2', 'solver': 'lbfgs'}\n",
      "[[50  0]\n",
      " [ 1 81]]\n",
      "              precision    recall  f1-score   support\n",
      "\n",
      "       False       0.98      1.00      0.99        50\n",
      "        True       1.00      0.99      0.99        82\n",
      "\n",
      "    accuracy                           0.99       132\n",
      "   macro avg       0.99      0.99      0.99       132\n",
      "weighted avg       0.99      0.99      0.99       132\n",
      "\n",
      "1.0\n"
     ]
    },
    {
     "name": "stderr",
     "output_type": "stream",
     "text": [
      "C:\\anacondasoft\\Lib\\site-packages\\sklearn\\utils\\validation.py:1408: DataConversionWarning: A column-vector y was passed when a 1d array was expected. Please change the shape of y to (n_samples, ), for example using ravel().\n",
      "  y = column_or_1d(y, warn=True)\n"
     ]
    }
   ],
   "source": [
    "cf.checkLR(xTrain,yTrain,xTest,yTest)"
   ]
  },
  {
   "cell_type": "code",
   "execution_count": 8,
   "id": "efa1cfea-47a1-4116-8b97-33e3806495e6",
   "metadata": {},
   "outputs": [],
   "source": []
  },
  {
   "cell_type": "code",
   "execution_count": null,
   "id": "9456bc53-b586-4afd-8022-4e922207e9ce",
   "metadata": {},
   "outputs": [],
   "source": []
  },
  {
   "cell_type": "code",
   "execution_count": 14,
   "id": "bd4b81f9-c119-472e-8c05-d1b3d5913f22",
   "metadata": {},
   "outputs": [],
   "source": [
    "\n",
    "# from sklearn.naive_bayes import CategoricalNB\n",
    "# from sklearn.metrics import classification_report\n",
    "# from sklearn.metrics import confusion_matrix\n",
    "\n",
    "# classifier =CategoricalNB()\n",
    "# classifier.fit(xTrain, y_Train)\n",
    "# y_pred = classifier.predict(xTest)\n",
    "# checkConfustionMatrix(yTest,y_pred)\n",
    "# cm = confusion_matrix(yTest,y_pred)\n",
    "# print(cm)\n",
    "# print(classification_report(yTest, yPred))"
   ]
  },
  {
   "cell_type": "code",
   "execution_count": null,
   "id": "0342e58c-3798-49fc-8653-c6fa6dc6f91d",
   "metadata": {},
   "outputs": [],
   "source": []
  },
  {
   "cell_type": "code",
   "execution_count": null,
   "id": "53fcf68e-d13a-4c52-b5b5-517addefd7ab",
   "metadata": {},
   "outputs": [],
   "source": [
    "\n"
   ]
  }
 ],
 "metadata": {
  "kernelspec": {
   "display_name": "Python [conda env:base] *",
   "language": "python",
   "name": "conda-base-py"
  },
  "language_info": {
   "codemirror_mode": {
    "name": "ipython",
    "version": 3
   },
   "file_extension": ".py",
   "mimetype": "text/x-python",
   "name": "python",
   "nbconvert_exporter": "python",
   "pygments_lexer": "ipython3",
   "version": "3.13.5"
  }
 },
 "nbformat": 4,
 "nbformat_minor": 5
}
